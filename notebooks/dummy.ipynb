{
 "cells": [
  {
   "cell_type": "markdown",
   "id": "36546eb1",
   "metadata": {},
   "source": [
    "# Dummy Notebook\n",
    "\n",
    "This is a test notebook.\n"
   ]
  }
 ],
 "metadata": {
  "language_info": {
   "name": "python"
  }
 },
 "nbformat": 4,
 "nbformat_minor": 5
}
