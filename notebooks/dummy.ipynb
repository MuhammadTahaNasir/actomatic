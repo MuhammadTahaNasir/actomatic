{
 "cells": [
  {
   "cell_type": "markdown",
   "id": "c88782d8",
   "metadata": {},
   "source": [
    "# 🧪 Dummy Notebook\n",
    "This is a test notebook to check nbconvert and CI deployment."
   ]
  },
  {
   "cell_type": "code",
   "execution_count": null,
   "id": "22d2b262",
   "metadata": {},
   "outputs": [],
   "source": [
    "print(\"✅ Hello from dummy notebook!\")"
   ]
  }
 ],
 "metadata": {
  "kernelspec": {
   "display_name": "Python 3",
   "language": "python",
   "name": "python3"
  },
  "language_info": {
   "name": "python",
   "version": "3.10"
  }
 },
 "nbformat": 4,
 "nbformat_minor": 5
}
